{
  "nbformat": 4,
  "nbformat_minor": 0,
  "metadata": {
    "colab": {
      "name": "V1.ipynb",
      "provenance": [],
      "collapsed_sections": [],
      "mount_file_id": "1t3diyikD_6x6C4eGqMVva-tBn55EqhO-",
      "authorship_tag": "ABX9TyNTBTVaOYTkE4zteWEKwY3d",
      "include_colab_link": true
    },
    "kernelspec": {
      "name": "python3",
      "display_name": "Python 3"
    },
    "language_info": {
      "name": "python"
    }
  },
  "cells": [
    {
      "cell_type": "markdown",
      "metadata": {
        "id": "view-in-github",
        "colab_type": "text"
      },
      "source": [
        "<a href=\"https://colab.research.google.com/github/Trevorchenmsu/Facebook-Hateful-Memes-Challenge/blob/main/V1.ipynb\" target=\"_parent\"><img src=\"https://colab.research.google.com/assets/colab-badge.svg\" alt=\"Open In Colab\"/></a>"
      ]
    },
    {
      "cell_type": "code",
      "metadata": {
        "colab": {
          "base_uri": "https://localhost:8080/",
          "height": 52
        },
        "id": "ZT3WVFakI-sJ",
        "outputId": "71549e10-a56d-4fbd-d13f-4c4eec181bfb"
      },
      "source": [
        "# notebook setting set as GPU\n",
        "from google.colab import drive\n",
        "drive.mount('/content/drive/')\n",
        "import os\n",
        "home = \"/content/drive/MyDrive\"\n",
        "os.chdir(home)\n",
        "os.getcwd()"
      ],
      "execution_count": null,
      "outputs": [
        {
          "output_type": "stream",
          "text": [
            "Drive already mounted at /content/drive/; to attempt to forcibly remount, call drive.mount(\"/content/drive/\", force_remount=True).\n"
          ],
          "name": "stdout"
        },
        {
          "output_type": "execute_result",
          "data": {
            "application/vnd.google.colaboratory.intrinsic+json": {
              "type": "string"
            },
            "text/plain": [
              "'/content/drive/MyDrive'"
            ]
          },
          "metadata": {
            "tags": []
          },
          "execution_count": 3
        }
      ]
    },
    {
      "cell_type": "code",
      "metadata": {
        "id": "PP7NI3hRasmP"
      },
      "source": [
        "# Install specified versions of `torch` and `torchvision`, before installing mmf (causes an issue)\n",
        "!pip install torch==1.6.0 torchvision==0.7.0 -f https://download.pytorch.org/whl/torch_stable.html\n",
        "\n",
        "# Install MMF from source. Clone the following repo where mmf does not \n",
        "# install default image features, since we will use our own features\n",
        "!git clone --branch no_feats --config core.symlinks=true https://github.com/rizavelioglu/mmf.git\n",
        "\n",
        "# install mmf\n",
        "import os\n",
        "os.chdir(os.path.join(home, \"mmf\"))\n",
        "!pip install --editable ."
      ],
      "execution_count": 1,
      "outputs": []
    },
    {
      "cell_type": "code",
      "metadata": {
        "id": "WdjNORiQdUat"
      },
      "source": [
        "# upload the zip file under this path\n",
        "import os\n",
        "os.chdir(os.path.join(home, \"data/\"))\n",
        "!mmf_convert_hm --zip_file=\"img_ocr.zip\"  --password=\"\" --bypass_checksum 1"
      ],
      "execution_count": 2,
      "outputs": []
    },
    {
      "cell_type": "code",
      "metadata": {
        "id": "soJiNT6MysMx"
      },
      "source": [
        "# check the files under the cach folder\n",
        "!ls /root/.cache/torch/mmf/data/datasets/hateful_memes/defaults/images/\n",
        "!ls /root/.cache/torch/mmf/data/datasets/hateful_memes/defaults/annotations\n",
        "\n",
        "# check the number of images\n",
        "!ls /root/.cache/torch/mmf/data/datasets/hateful_memes/defaults/images/img/ |wc -l"
      ],
      "execution_count": 3,
      "outputs": []
    },
    {
      "cell_type": "code",
      "metadata": {
        "id": "PtN9i3bPh5rj"
      },
      "source": [
        "# Free up the disk by removing .zip, .tar files\n",
        "!rm -rf /root/.cache/torch/mmf/data/datasets/hateful_memes/defaults/images/img_ocr.zip"
      ],
      "execution_count": null,
      "outputs": []
    },
    {
      "cell_type": "code",
      "metadata": {
        "id": "aJj5c7SlmWiH"
      },
      "source": [
        "# check the files under the cach folder\n",
        "!ls /root/.cache/torch/mmf/data/datasets/hateful_memes/defaults/images/\n",
        "!ls /root/.cache/torch/mmf/data/datasets/hateful_memes/defaults/annotations\n",
        "\n",
        "# # check the number of images\n",
        "!ls /root/.cache/torch/mmf/data/datasets/hateful_memes/defaults/images/img/ |wc -l"
      ],
      "execution_count": 4,
      "outputs": []
    },
    {
      "cell_type": "code",
      "metadata": {
        "id": "wsFFVHWRhXK3"
      },
      "source": [
        "# number of unique images in the dataset\n",
        "import pandas as pd\n",
        "import os\n",
        "\n",
        "annotation_dir = \"/root/.cache/torch/mmf/data/datasets/hateful_memes/defaults/annotations\"\n",
        "img_dir = \"/root/.cache/torch/mmf/data/datasets/hateful_memes/defaults/images/img/\"\n",
        "\n",
        "# Collect all the annotations (from Phase-2)\n",
        "train       = pd.read_json(f\"{annotation_dir}/train.jsonl\", lines=True)\n",
        "dev_seen    = pd.read_json(f\"{annotation_dir}/dev_seen.jsonl\", lines=True)\n",
        "dev_unseen  = pd.read_json(f\"{annotation_dir}/dev_unseen.jsonl\", lines=True)\n",
        "test_seen   = pd.read_json(f\"{annotation_dir}/test_seen.jsonl\", lines=True)\n",
        "test_unseen = pd.read_json(f\"{annotation_dir}/test_unseen.jsonl\", lines=True)\n",
        "\n",
        "# Create 2 sets: \n",
        "#   A set of strings, 'a': for all the image names,\n",
        "#   A set of lists, 'b': for all the image names in dataset, e.g. train, dev_seen, etc.\n",
        "a = os.listdir(f\"{img_dir}\")\n",
        "b = []\n",
        "for i in [train, dev_seen, dev_unseen, test_seen, test_unseen]:\n",
        "    b.append(list(i[\"img\"].str.split(\"/\").str.get(1)))\n",
        "\n",
        "set_mapping = ['train', 'dev_seen', 'dev_unseen', 'test_seen', 'test_unseen']\n",
        "total_size = 0\n",
        "print(\"#of images in: \")\n",
        "for idx, i in enumerate(b):\n",
        "    total_size += len(set(i))\n",
        "    print(f\"\\t'{set_mapping[idx]}'  \\t:\", len(set(i)))\n",
        "else:\n",
        "    print(f\"\\nIn total there are {total_size} images,\",\n",
        "          \"\\nBut the # of images in /img/ directory is: \", len(a))"
      ],
      "execution_count": 5,
      "outputs": []
    },
    {
      "cell_type": "code",
      "metadata": {
        "id": "lJdcDPiatubh"
      },
      "source": [
        "!ls /root/.cache/torch/mmf/data/datasets/hateful_memes/defaults/images/img/ |wc -l"
      ],
      "execution_count": 6,
      "outputs": []
    },
    {
      "cell_type": "code",
      "metadata": {
        "id": "8Cj3V6Dr2KJF"
      },
      "source": [
        "# extract image features， intall packages and repos\n",
        "import os\n",
        "os.chdir(home)\n",
        "!git clone https://gitlab.com/vedanuj/vqa-maskrcnn-benchmark\n",
        "\n",
        "!pip install ninja yacs cython matplotlib\n",
        "\n",
        "os.chdir(os.path.join(home, \"vqa-maskrcnn-benchmark\"))\n",
        "!rm -rf build\n",
        "!python setup.py build develop"
      ],
      "execution_count": 7,
      "outputs": []
    },
    {
      "cell_type": "code",
      "metadata": {
        "id": "aezPWQkd5XeD"
      },
      "source": [
        "os.chdir(os.path.join(home, \"mmf/tools/scripts/features/\"))\n",
        "out_folder = os.path.join(home, \"features_OCR/\")\n",
        "\n",
        "!python extract_features_vmb.py --config_file \"https://dl.fbaipublicfiles.com/pythia/detectron_model/detectron_model_x152.yaml\" \\\n",
        "                                --model_name \"X-152\" \\\n",
        "                                --output_folder $out_folder \\\n",
        "                                --image_dir \"/root/.cache/torch/mmf/data/datasets/hateful_memes/defaults/images/img/\" \\\n",
        "                                --num_features 100 \\\n",
        "                                --start_index 7200 \\\n",
        "                                --end_index 8000 \\\n",
        "                                # --exclude_list \"/content/exclude.txt\"\n",
        "                                # --feature_name \"fc6\" \\\n",
        "                                # --confidence_threshold 0. \\"
      ],
      "execution_count": 8,
      "outputs": []
    },
    {
      "cell_type": "code",
      "metadata": {
        "id": "0TfKQPSScXBq"
      },
      "source": [
        "# Unzip the feature data\n",
        "import os\n",
        "home = \"/content/drive/MyDrive\"\n",
        "os.chdir(home)\n",
        "!unzip features_ocr.zip -d /content/drive/MyDrive/"
      ],
      "execution_count": 9,
      "outputs": []
    },
    {
      "cell_type": "code",
      "metadata": {
        "id": "Lbd04gMJGOLK"
      },
      "source": [
        "# Check how many images we have in total\n",
        "!ls /content/drive/MyDrive/features_ocr/ | wc -l\n",
        "# !ls /root/.cache/torch/mmf/data/datasets/hateful_memes/defaults/"
      ],
      "execution_count": 10,
      "outputs": []
    },
    {
      "cell_type": "code",
      "metadata": {
        "id": "4mQ6tlJvdScl"
      },
      "source": [
        "import os\n",
        "os.chdir(home)\n",
        "# Define where image features are\n",
        "feats_dir = os.path.join(home, \"features_ocr\")\n",
        "# Define where train.jsonl is\n",
        "train_dir = os.path.join(home, \"train_500.jsonl\")\n",
        "\n",
        "!mmf_run config=\"projects/visual_bert/configs/hateful_memes/from_coco.yaml\" \\\n",
        "        model=\"visual_bert\" \\\n",
        "        dataset=hateful_memes \\\n",
        "        run_type=train_val \\\n",
        "        checkpoint.max_to_keep=1 \\\n",
        "        checkpoint.resume_zoo=visual_bert.pretrained.cc.full \\\n",
        "        training.tensorboard=True \\\n",
        "        training.checkpoint_interval=50 \\\n",
        "        training.evaluation_interval=50 \\\n",
        "        training.max_updates=500 \\\n",
        "        training.log_interval=100 \\\n",
        "        dataset_config.hateful_memes.max_features=100 \\\n",
        "        dataset_config.hateful_memes.annotations.train[0]=$train_dir \\\n",
        "        dataset_config.hateful_memes.annotations.val[0]=hateful_memes/defaults/annotations/dev_unseen.jsonl \\\n",
        "        dataset_config.hateful_memes.annotations.test[0]=hateful_memes/defaults/annotations/test_unseen.jsonl \\\n",
        "        dataset_config.hateful_memes.features.train[0]=$feats_dir \\\n",
        "        dataset_config.hateful_memes.features.val[0]=$feats_dir \\\n",
        "        dataset_config.hateful_memes.features.test[0]=$feats_dir \\\n",
        "        training.lr_ratio=0.3 \\\n",
        "        training.use_warmup=True \\\n",
        "        training.batch_size=32 \\\n",
        "        optimizer.params.lr=5.0e-05 \\\n",
        "        env.save_dir=./trail1_500 \\\n",
        "        env.tensorboard_logdir=logs/fit/trial1_500 \\"
      ],
      "execution_count": 11,
      "outputs": []
    },
    {
      "cell_type": "code",
      "metadata": {
        "id": "8HZUt_WqeqeO"
      },
      "source": [
        "# Visualize losses/accuracy via Tensorboard\n",
        "# Load the TensorBoard notebook extension\n",
        "%load_ext tensorboard\n",
        "%tensorboard --logdir logs/fit"
      ],
      "execution_count": null,
      "outputs": []
    },
    {
      "cell_type": "code",
      "metadata": {
        "id": "r5irZh2EgA1l"
      },
      "source": [
        "prediction (test_unseen.jsonl)\n",
        "import os\n",
        "os.chdir(home)\n",
        "# where checkpoint is\n",
        "ckpt_dir = os.path.join(home, \"sub1/best.ckpt\")\n",
        "feats_dir = os.path.join(home, \"features/feats_hm\")\n",
        "\n",
        "!mmf_predict config=\"projects/visual_bert/configs/hateful_memes/defaults.yaml\" \\\n",
        "    model=\"visual_bert\" \\\n",
        "    dataset=hateful_memes \\\n",
        "    run_type=test \\\n",
        "    checkpoint.resume_file=$ckpt_dir \\\n",
        "    checkpoint.reset.optimizer=True \\\n",
        "    dataset_config.hateful_memes.annotations.val[0]=hateful_memes/defaults/annotations/dev_unseen.jsonl \\\n",
        "    dataset_config.hateful_memes.annotations.test[0]=hateful_memes/defaults/annotations/test_unseen.jsonl \\\n",
        "    dataset_config.hateful_memes.features.train[0]=$feats_dir \\\n",
        "    dataset_config.hateful_memes.features.val[0]=$feats_dir \\\n",
        "    dataset_config.hateful_memes.features.test[0]=$feats_dir \\"
      ],
      "execution_count": null,
      "outputs": []
    },
    {
      "cell_type": "code",
      "metadata": {
        "id": "BhbpzxAxa0rD"
      },
      "source": [
        "# Test pretrained model\n",
        "import matplotlib.pyplot as plt\n",
        "import requests\n",
        "\n",
        "from PIL import Image\n",
        "\n",
        "from mmf.models.mmbt import MMBT\n",
        "\n",
        "model = MMBT.from_pretrained(\"mmbt.hateful_memes.images\")"
      ],
      "execution_count": null,
      "outputs": []
    },
    {
      "cell_type": "code",
      "metadata": {
        "id": "xcO4Qe71a2xn"
      },
      "source": [
        "image_url = \"https://i.imgur.com/tEcsk5q.jpg\" #@param {type:\"string\"}\n",
        "text = \"look how many people love you\" #@param {type: \"string\"}\n",
        "output = model.classify(image_url, text)\n",
        "plt.imshow(Image.open(requests.get(image_url, stream=True).raw))\n",
        "plt.axis(\"off\")\n",
        "plt.show()\n",
        "hateful = \"Yes\" if output[\"label\"] == 1 else \"No\"\n",
        "print(\"Hateful as per the model?\", hateful)\n",
        "print(f\"Model's confidence: {output['confidence'] * 100:.3f}%\")"
      ],
      "execution_count": null,
      "outputs": []
    }
  ]
}